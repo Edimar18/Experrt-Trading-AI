{
 "cells": [
  {
   "cell_type": "code",
   "execution_count": 1,
   "metadata": {},
   "outputs": [],
   "source": [
    "import pandas as pd\n",
    "import numpy as np\n",
    "import matplotlib.pyplot as plt\n",
    "import seaborn as sns\n",
    "from sklearn.preprocessing import StandardScaler"
   ]
  },
  {
   "cell_type": "code",
   "execution_count": 2,
   "metadata": {},
   "outputs": [],
   "source": [
    "data = pd.read_pickle('M1_HISTORICAL_DATA.pkl')"
   ]
  },
  {
   "cell_type": "code",
   "execution_count": 4,
   "metadata": {},
   "outputs": [],
   "source": [
    "data.drop('real_volume', axis=1, inplace=True)"
   ]
  },
  {
   "cell_type": "code",
   "execution_count": 14,
   "metadata": {},
   "outputs": [
    {
     "data": {
      "text/html": [
       "<div>\n",
       "<style scoped>\n",
       "    .dataframe tbody tr th:only-of-type {\n",
       "        vertical-align: middle;\n",
       "    }\n",
       "\n",
       "    .dataframe tbody tr th {\n",
       "        vertical-align: top;\n",
       "    }\n",
       "\n",
       "    .dataframe thead th {\n",
       "        text-align: right;\n",
       "    }\n",
       "</style>\n",
       "<table border=\"1\" class=\"dataframe\">\n",
       "  <thead>\n",
       "    <tr style=\"text-align: right;\">\n",
       "      <th></th>\n",
       "      <th>time</th>\n",
       "      <th>open</th>\n",
       "      <th>high</th>\n",
       "      <th>low</th>\n",
       "      <th>close</th>\n",
       "      <th>tick_volume</th>\n",
       "      <th>spread</th>\n",
       "      <th>MA5</th>\n",
       "      <th>MA8</th>\n",
       "      <th>MA13</th>\n",
       "      <th>MA20</th>\n",
       "      <th>RSI-4</th>\n",
       "      <th>RSI-8</th>\n",
       "    </tr>\n",
       "  </thead>\n",
       "  <tbody>\n",
       "    <tr>\n",
       "      <th>19</th>\n",
       "      <td>2023-01-02 09:19:00</td>\n",
       "      <td>1.06801</td>\n",
       "      <td>1.06802</td>\n",
       "      <td>1.06799</td>\n",
       "      <td>1.06799</td>\n",
       "      <td>4</td>\n",
       "      <td>77</td>\n",
       "      <td>1.068018</td>\n",
       "      <td>1.068031</td>\n",
       "      <td>1.068165</td>\n",
       "      <td>1.068301</td>\n",
       "      <td>22.222222</td>\n",
       "      <td>41.463415</td>\n",
       "    </tr>\n",
       "    <tr>\n",
       "      <th>20</th>\n",
       "      <td>2023-01-02 09:20:00</td>\n",
       "      <td>1.06800</td>\n",
       "      <td>1.06807</td>\n",
       "      <td>1.06800</td>\n",
       "      <td>1.06804</td>\n",
       "      <td>11</td>\n",
       "      <td>72</td>\n",
       "      <td>1.067998</td>\n",
       "      <td>1.068027</td>\n",
       "      <td>1.068135</td>\n",
       "      <td>1.068273</td>\n",
       "      <td>78.571429</td>\n",
       "      <td>46.666667</td>\n",
       "    </tr>\n",
       "    <tr>\n",
       "      <th>21</th>\n",
       "      <td>2023-01-02 09:21:00</td>\n",
       "      <td>1.06807</td>\n",
       "      <td>1.06808</td>\n",
       "      <td>1.06804</td>\n",
       "      <td>1.06807</td>\n",
       "      <td>10</td>\n",
       "      <td>68</td>\n",
       "      <td>1.068020</td>\n",
       "      <td>1.068030</td>\n",
       "      <td>1.068104</td>\n",
       "      <td>1.068248</td>\n",
       "      <td>80.000000</td>\n",
       "      <td>52.173913</td>\n",
       "    </tr>\n",
       "    <tr>\n",
       "      <th>22</th>\n",
       "      <td>2023-01-02 09:22:00</td>\n",
       "      <td>1.06808</td>\n",
       "      <td>1.06819</td>\n",
       "      <td>1.06807</td>\n",
       "      <td>1.06819</td>\n",
       "      <td>17</td>\n",
       "      <td>65</td>\n",
       "      <td>1.068062</td>\n",
       "      <td>1.068049</td>\n",
       "      <td>1.068078</td>\n",
       "      <td>1.068229</td>\n",
       "      <td>86.956522</td>\n",
       "      <td>63.157895</td>\n",
       "    </tr>\n",
       "    <tr>\n",
       "      <th>23</th>\n",
       "      <td>2023-01-02 09:23:00</td>\n",
       "      <td>1.06818</td>\n",
       "      <td>1.06821</td>\n",
       "      <td>1.06816</td>\n",
       "      <td>1.06821</td>\n",
       "      <td>5</td>\n",
       "      <td>67</td>\n",
       "      <td>1.068100</td>\n",
       "      <td>1.068058</td>\n",
       "      <td>1.068063</td>\n",
       "      <td>1.068210</td>\n",
       "      <td>100.000000</td>\n",
       "      <td>57.142857</td>\n",
       "    </tr>\n",
       "  </tbody>\n",
       "</table>\n",
       "</div>"
      ],
      "text/plain": [
       "                  time     open     high      low    close  tick_volume  \\\n",
       "19 2023-01-02 09:19:00  1.06801  1.06802  1.06799  1.06799            4   \n",
       "20 2023-01-02 09:20:00  1.06800  1.06807  1.06800  1.06804           11   \n",
       "21 2023-01-02 09:21:00  1.06807  1.06808  1.06804  1.06807           10   \n",
       "22 2023-01-02 09:22:00  1.06808  1.06819  1.06807  1.06819           17   \n",
       "23 2023-01-02 09:23:00  1.06818  1.06821  1.06816  1.06821            5   \n",
       "\n",
       "    spread       MA5       MA8      MA13      MA20       RSI-4      RSI-8  \n",
       "19      77  1.068018  1.068031  1.068165  1.068301   22.222222  41.463415  \n",
       "20      72  1.067998  1.068027  1.068135  1.068273   78.571429  46.666667  \n",
       "21      68  1.068020  1.068030  1.068104  1.068248   80.000000  52.173913  \n",
       "22      65  1.068062  1.068049  1.068078  1.068229   86.956522  63.157895  \n",
       "23      67  1.068100  1.068058  1.068063  1.068210  100.000000  57.142857  "
      ]
     },
     "execution_count": 14,
     "metadata": {},
     "output_type": "execute_result"
    }
   ],
   "source": [
    "data.head()"
   ]
  },
  {
   "cell_type": "code",
   "execution_count": 6,
   "metadata": {},
   "outputs": [],
   "source": [
    "# Calculate Moving Averages (20 and 50 periods)\n",
    "data['MA5'] = data['close'].rolling(window=5).mean()\n",
    "data['MA8'] = data['close'].rolling(window=8).mean()\n",
    "data['MA13'] = data['close'].rolling(window=13).mean()\n",
    "data['MA20'] = data['close'].rolling(window=20).mean()\n",
    "# Calculate RSI\n",
    "def calculate_rsi(data, periods=4):\n",
    "    delta = data['close'].diff()\n",
    "    gain = (delta.where(delta > 0, 0)).rolling(window=periods).mean()\n",
    "    loss = (-delta.where(delta < 0, 0)).rolling(window=periods).mean()\n",
    "    rs = gain / loss\n",
    "    rsi = 100 - (100 / (1 + rs))\n",
    "    return rsi\n",
    "\n",
    "data['RSI-4'] = calculate_rsi(data)\n",
    "data['RSI-8'] = calculate_rsi(data, 8)"
   ]
  },
  {
   "cell_type": "code",
   "execution_count": 15,
   "metadata": {},
   "outputs": [
    {
     "data": {
      "text/html": [
       "<div>\n",
       "<style scoped>\n",
       "    .dataframe tbody tr th:only-of-type {\n",
       "        vertical-align: middle;\n",
       "    }\n",
       "\n",
       "    .dataframe tbody tr th {\n",
       "        vertical-align: top;\n",
       "    }\n",
       "\n",
       "    .dataframe thead th {\n",
       "        text-align: right;\n",
       "    }\n",
       "</style>\n",
       "<table border=\"1\" class=\"dataframe\">\n",
       "  <thead>\n",
       "    <tr style=\"text-align: right;\">\n",
       "      <th></th>\n",
       "      <th>time</th>\n",
       "      <th>open</th>\n",
       "      <th>high</th>\n",
       "      <th>low</th>\n",
       "      <th>close</th>\n",
       "      <th>tick_volume</th>\n",
       "      <th>spread</th>\n",
       "      <th>MA5</th>\n",
       "      <th>MA8</th>\n",
       "      <th>MA13</th>\n",
       "      <th>MA20</th>\n",
       "      <th>RSI-4</th>\n",
       "      <th>RSI-8</th>\n",
       "    </tr>\n",
       "  </thead>\n",
       "  <tbody>\n",
       "    <tr>\n",
       "      <th>19</th>\n",
       "      <td>2023-01-02 09:19:00</td>\n",
       "      <td>1.06801</td>\n",
       "      <td>1.06802</td>\n",
       "      <td>1.06799</td>\n",
       "      <td>1.06799</td>\n",
       "      <td>4</td>\n",
       "      <td>77</td>\n",
       "      <td>1.068018</td>\n",
       "      <td>1.068031</td>\n",
       "      <td>1.068165</td>\n",
       "      <td>1.068301</td>\n",
       "      <td>22.222222</td>\n",
       "      <td>41.463415</td>\n",
       "    </tr>\n",
       "    <tr>\n",
       "      <th>20</th>\n",
       "      <td>2023-01-02 09:20:00</td>\n",
       "      <td>1.06800</td>\n",
       "      <td>1.06807</td>\n",
       "      <td>1.06800</td>\n",
       "      <td>1.06804</td>\n",
       "      <td>11</td>\n",
       "      <td>72</td>\n",
       "      <td>1.067998</td>\n",
       "      <td>1.068027</td>\n",
       "      <td>1.068135</td>\n",
       "      <td>1.068273</td>\n",
       "      <td>78.571429</td>\n",
       "      <td>46.666667</td>\n",
       "    </tr>\n",
       "    <tr>\n",
       "      <th>21</th>\n",
       "      <td>2023-01-02 09:21:00</td>\n",
       "      <td>1.06807</td>\n",
       "      <td>1.06808</td>\n",
       "      <td>1.06804</td>\n",
       "      <td>1.06807</td>\n",
       "      <td>10</td>\n",
       "      <td>68</td>\n",
       "      <td>1.068020</td>\n",
       "      <td>1.068030</td>\n",
       "      <td>1.068104</td>\n",
       "      <td>1.068248</td>\n",
       "      <td>80.000000</td>\n",
       "      <td>52.173913</td>\n",
       "    </tr>\n",
       "    <tr>\n",
       "      <th>22</th>\n",
       "      <td>2023-01-02 09:22:00</td>\n",
       "      <td>1.06808</td>\n",
       "      <td>1.06819</td>\n",
       "      <td>1.06807</td>\n",
       "      <td>1.06819</td>\n",
       "      <td>17</td>\n",
       "      <td>65</td>\n",
       "      <td>1.068062</td>\n",
       "      <td>1.068049</td>\n",
       "      <td>1.068078</td>\n",
       "      <td>1.068229</td>\n",
       "      <td>86.956522</td>\n",
       "      <td>63.157895</td>\n",
       "    </tr>\n",
       "    <tr>\n",
       "      <th>23</th>\n",
       "      <td>2023-01-02 09:23:00</td>\n",
       "      <td>1.06818</td>\n",
       "      <td>1.06821</td>\n",
       "      <td>1.06816</td>\n",
       "      <td>1.06821</td>\n",
       "      <td>5</td>\n",
       "      <td>67</td>\n",
       "      <td>1.068100</td>\n",
       "      <td>1.068058</td>\n",
       "      <td>1.068063</td>\n",
       "      <td>1.068210</td>\n",
       "      <td>100.000000</td>\n",
       "      <td>57.142857</td>\n",
       "    </tr>\n",
       "  </tbody>\n",
       "</table>\n",
       "</div>"
      ],
      "text/plain": [
       "                  time     open     high      low    close  tick_volume  \\\n",
       "19 2023-01-02 09:19:00  1.06801  1.06802  1.06799  1.06799            4   \n",
       "20 2023-01-02 09:20:00  1.06800  1.06807  1.06800  1.06804           11   \n",
       "21 2023-01-02 09:21:00  1.06807  1.06808  1.06804  1.06807           10   \n",
       "22 2023-01-02 09:22:00  1.06808  1.06819  1.06807  1.06819           17   \n",
       "23 2023-01-02 09:23:00  1.06818  1.06821  1.06816  1.06821            5   \n",
       "\n",
       "    spread       MA5       MA8      MA13      MA20       RSI-4      RSI-8  \n",
       "19      77  1.068018  1.068031  1.068165  1.068301   22.222222  41.463415  \n",
       "20      72  1.067998  1.068027  1.068135  1.068273   78.571429  46.666667  \n",
       "21      68  1.068020  1.068030  1.068104  1.068248   80.000000  52.173913  \n",
       "22      65  1.068062  1.068049  1.068078  1.068229   86.956522  63.157895  \n",
       "23      67  1.068100  1.068058  1.068063  1.068210  100.000000  57.142857  "
      ]
     },
     "execution_count": 15,
     "metadata": {},
     "output_type": "execute_result"
    }
   ],
   "source": [
    "data.head()"
   ]
  },
  {
   "cell_type": "code",
   "execution_count": 33,
   "metadata": {},
   "outputs": [
    {
     "name": "stdout",
     "output_type": "stream",
     "text": [
      "341271\n"
     ]
    }
   ],
   "source": [
    "print(len(data))"
   ]
  },
  {
   "cell_type": "markdown",
   "metadata": {},
   "source": [
    "# FEATURES & LABELS EXTRACTION"
   ]
  },
  {
   "cell_type": "code",
   "execution_count": 34,
   "metadata": {},
   "outputs": [],
   "source": [
    "# PRICE OUTPUT FEATURES AND LABELS\n",
    "features = []\n",
    "label = []\n",
    "\n",
    "#len(data)-8\n",
    "#input = \n",
    "\n",
    "for i in range(341000):\n",
    "    features.append([data.iloc[0+i]['close'], data.iloc[1+i]['close'], data.iloc[2+i]['close'], data.iloc[3+i]['close'], data.iloc[4+i]['close'], \n",
    "                     data.iloc[5+i]['close'], data.iloc[6+i]['close'], data.iloc[7+i]['close'], data.iloc[8+i]['close'], data.iloc[9+i]['close'],\n",
    "                     data.iloc[10+i]['open'], data.iloc[10+i]['high'], data.iloc[10+i]['low'], data.iloc[10+i]['close'], data.iloc[10+i]['tick_volume'],\n",
    "                     data.iloc[10+i]['spread'], data.iloc[10+i]['MA5'], data.iloc[10+i]['MA8'], data.iloc[10+i]['MA13'], data.iloc[10+i]['MA20'],\n",
    "                     data.iloc[10+i]['RSI-4'], data.iloc[10+i]['RSI-8']])\n",
    "    label.append([data.iloc[11+i]['close'], data.iloc[12+i]['close'], data.iloc[13+i]['close']])"
   ]
  },
  {
   "cell_type": "code",
   "execution_count": 35,
   "metadata": {},
   "outputs": [],
   "source": [
    "_features = np.array(features)\n",
    "_label = np.array(label)"
   ]
  },
  {
   "cell_type": "code",
   "execution_count": 37,
   "metadata": {},
   "outputs": [
    {
     "name": "stdout",
     "output_type": "stream",
     "text": [
      "(341000, 22)\n",
      "(341000, 3)\n"
     ]
    }
   ],
   "source": [
    "print(_features.shape)\n",
    "print(_label.shape)"
   ]
  },
  {
   "cell_type": "markdown",
   "metadata": {},
   "source": [
    "# FEATURE_SCALING"
   ]
  },
  {
   "cell_type": "code",
   "execution_count": 38,
   "metadata": {},
   "outputs": [],
   "source": [
    "import joblib"
   ]
  },
  {
   "cell_type": "code",
   "execution_count": 39,
   "metadata": {},
   "outputs": [],
   "source": [
    "scaler = StandardScaler()"
   ]
  },
  {
   "cell_type": "code",
   "execution_count": 40,
   "metadata": {},
   "outputs": [],
   "source": [
    "FEATURES = scaler.fit_transform(_features)\n",
    "LABELS = scaler.fit_transform(_label)"
   ]
  },
  {
   "cell_type": "code",
   "execution_count": 41,
   "metadata": {},
   "outputs": [
    {
     "data": {
      "text/plain": [
       "['scaler.pkl']"
      ]
     },
     "execution_count": 41,
     "metadata": {},
     "output_type": "execute_result"
    }
   ],
   "source": [
    "joblib.dump(scaler, 'scaler.pkl')"
   ]
  },
  {
   "cell_type": "code",
   "execution_count": 42,
   "metadata": {},
   "outputs": [
    {
     "name": "stdout",
     "output_type": "stream",
     "text": [
      "BEFORE SCALER\n",
      "[ 1.06799     1.06804     1.06807     1.06819     1.06821     1.06822\n",
      "  1.06821     1.06708     1.06765     1.06769     1.0677      1.06771\n",
      "  1.0677      1.06771     2.         77.          1.067668    1.06787\n",
      "  1.06792769  1.0679895  35.79545455 40.625     ]\n",
      "AFTER SCALER\n",
      "[-0.76270396 -0.759688   -0.75788021 -0.75063564 -0.74943191 -0.74883225\n",
      " -0.74944076 -0.81770704 -0.78327882 -0.78086704 -0.78029327 -0.78436893\n",
      " -0.77560532 -0.77966341 -1.03684745  8.62035351 -0.78221287 -0.77001646\n",
      " -0.76654104 -0.76281981 -0.47436431 -0.43699661]\n"
     ]
    }
   ],
   "source": [
    "print('BEFORE SCALER')\n",
    "print(_features[0])\n",
    "\n",
    "print('AFTER SCALER')\n",
    "print(FEATURES[0])"
   ]
  },
  {
   "cell_type": "code",
   "execution_count": 43,
   "metadata": {},
   "outputs": [],
   "source": [
    "np.savetxt(\"no_scalar_features.txt\", _features)\n",
    "np.savetxt(\"no_scalar_labels.txt\", _label)\n",
    "np.savetxt(\"scalar_features.txt\", FEATURES)\n",
    "np.savetxt(\"labels.txt\", LABELS)\n"
   ]
  }
 ],
 "metadata": {
  "kernelspec": {
   "display_name": "Python 3",
   "language": "python",
   "name": "python3"
  },
  "language_info": {
   "codemirror_mode": {
    "name": "ipython",
    "version": 3
   },
   "file_extension": ".py",
   "mimetype": "text/x-python",
   "name": "python",
   "nbconvert_exporter": "python",
   "pygments_lexer": "ipython3",
   "version": "3.12.4"
  }
 },
 "nbformat": 4,
 "nbformat_minor": 2
}

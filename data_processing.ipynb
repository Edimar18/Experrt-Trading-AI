{
 "cells": [
  {
   "cell_type": "code",
   "execution_count": 1,
   "metadata": {},
   "outputs": [],
   "source": [
    "import pandas as pd\n",
    "import numpy as np\n",
    "import matplotlib.pyplot as plt\n",
    "import seaborn as sns\n",
    "from sklearn.preprocessing import StandardScaler"
   ]
  },
  {
   "cell_type": "code",
   "execution_count": 2,
   "metadata": {},
   "outputs": [],
   "source": [
    "data = pd.read_pickle('M1_HISTORICAL_DATA.pkl')"
   ]
  },
  {
   "cell_type": "code",
   "execution_count": 4,
   "metadata": {},
   "outputs": [],
   "source": [
    "data.drop('real_volume', axis=1, inplace=True)"
   ]
  },
  {
   "cell_type": "code",
   "execution_count": 14,
   "metadata": {},
   "outputs": [
    {
     "data": {
      "text/html": [
       "<div>\n",
       "<style scoped>\n",
       "    .dataframe tbody tr th:only-of-type {\n",
       "        vertical-align: middle;\n",
       "    }\n",
       "\n",
       "    .dataframe tbody tr th {\n",
       "        vertical-align: top;\n",
       "    }\n",
       "\n",
       "    .dataframe thead th {\n",
       "        text-align: right;\n",
       "    }\n",
       "</style>\n",
       "<table border=\"1\" class=\"dataframe\">\n",
       "  <thead>\n",
       "    <tr style=\"text-align: right;\">\n",
       "      <th></th>\n",
       "      <th>time</th>\n",
       "      <th>open</th>\n",
       "      <th>high</th>\n",
       "      <th>low</th>\n",
       "      <th>close</th>\n",
       "      <th>tick_volume</th>\n",
       "      <th>spread</th>\n",
       "      <th>MA5</th>\n",
       "      <th>MA8</th>\n",
       "      <th>MA13</th>\n",
       "      <th>MA20</th>\n",
       "      <th>RSI-4</th>\n",
       "      <th>RSI-8</th>\n",
       "    </tr>\n",
       "  </thead>\n",
       "  <tbody>\n",
       "    <tr>\n",
       "      <th>19</th>\n",
       "      <td>2023-01-02 09:19:00</td>\n",
       "      <td>1.06801</td>\n",
       "      <td>1.06802</td>\n",
       "      <td>1.06799</td>\n",
       "      <td>1.06799</td>\n",
       "      <td>4</td>\n",
       "      <td>77</td>\n",
       "      <td>1.068018</td>\n",
       "      <td>1.068031</td>\n",
       "      <td>1.068165</td>\n",
       "      <td>1.068301</td>\n",
       "      <td>22.222222</td>\n",
       "      <td>41.463415</td>\n",
       "    </tr>\n",
       "    <tr>\n",
       "      <th>20</th>\n",
       "      <td>2023-01-02 09:20:00</td>\n",
       "      <td>1.06800</td>\n",
       "      <td>1.06807</td>\n",
       "      <td>1.06800</td>\n",
       "      <td>1.06804</td>\n",
       "      <td>11</td>\n",
       "      <td>72</td>\n",
       "      <td>1.067998</td>\n",
       "      <td>1.068027</td>\n",
       "      <td>1.068135</td>\n",
       "      <td>1.068273</td>\n",
       "      <td>78.571429</td>\n",
       "      <td>46.666667</td>\n",
       "    </tr>\n",
       "    <tr>\n",
       "      <th>21</th>\n",
       "      <td>2023-01-02 09:21:00</td>\n",
       "      <td>1.06807</td>\n",
       "      <td>1.06808</td>\n",
       "      <td>1.06804</td>\n",
       "      <td>1.06807</td>\n",
       "      <td>10</td>\n",
       "      <td>68</td>\n",
       "      <td>1.068020</td>\n",
       "      <td>1.068030</td>\n",
       "      <td>1.068104</td>\n",
       "      <td>1.068248</td>\n",
       "      <td>80.000000</td>\n",
       "      <td>52.173913</td>\n",
       "    </tr>\n",
       "    <tr>\n",
       "      <th>22</th>\n",
       "      <td>2023-01-02 09:22:00</td>\n",
       "      <td>1.06808</td>\n",
       "      <td>1.06819</td>\n",
       "      <td>1.06807</td>\n",
       "      <td>1.06819</td>\n",
       "      <td>17</td>\n",
       "      <td>65</td>\n",
       "      <td>1.068062</td>\n",
       "      <td>1.068049</td>\n",
       "      <td>1.068078</td>\n",
       "      <td>1.068229</td>\n",
       "      <td>86.956522</td>\n",
       "      <td>63.157895</td>\n",
       "    </tr>\n",
       "    <tr>\n",
       "      <th>23</th>\n",
       "      <td>2023-01-02 09:23:00</td>\n",
       "      <td>1.06818</td>\n",
       "      <td>1.06821</td>\n",
       "      <td>1.06816</td>\n",
       "      <td>1.06821</td>\n",
       "      <td>5</td>\n",
       "      <td>67</td>\n",
       "      <td>1.068100</td>\n",
       "      <td>1.068058</td>\n",
       "      <td>1.068063</td>\n",
       "      <td>1.068210</td>\n",
       "      <td>100.000000</td>\n",
       "      <td>57.142857</td>\n",
       "    </tr>\n",
       "  </tbody>\n",
       "</table>\n",
       "</div>"
      ],
      "text/plain": [
       "                  time     open     high      low    close  tick_volume  \\\n",
       "19 2023-01-02 09:19:00  1.06801  1.06802  1.06799  1.06799            4   \n",
       "20 2023-01-02 09:20:00  1.06800  1.06807  1.06800  1.06804           11   \n",
       "21 2023-01-02 09:21:00  1.06807  1.06808  1.06804  1.06807           10   \n",
       "22 2023-01-02 09:22:00  1.06808  1.06819  1.06807  1.06819           17   \n",
       "23 2023-01-02 09:23:00  1.06818  1.06821  1.06816  1.06821            5   \n",
       "\n",
       "    spread       MA5       MA8      MA13      MA20       RSI-4      RSI-8  \n",
       "19      77  1.068018  1.068031  1.068165  1.068301   22.222222  41.463415  \n",
       "20      72  1.067998  1.068027  1.068135  1.068273   78.571429  46.666667  \n",
       "21      68  1.068020  1.068030  1.068104  1.068248   80.000000  52.173913  \n",
       "22      65  1.068062  1.068049  1.068078  1.068229   86.956522  63.157895  \n",
       "23      67  1.068100  1.068058  1.068063  1.068210  100.000000  57.142857  "
      ]
     },
     "execution_count": 14,
     "metadata": {},
     "output_type": "execute_result"
    }
   ],
   "source": [
    "data.head()"
   ]
  },
  {
   "cell_type": "code",
   "execution_count": 6,
   "metadata": {},
   "outputs": [],
   "source": [
    "# Calculate Moving Averages (20 and 50 periods)\n",
    "data['MA5'] = data['close'].rolling(window=5).mean()\n",
    "data['MA8'] = data['close'].rolling(window=8).mean()\n",
    "data['MA13'] = data['close'].rolling(window=13).mean()\n",
    "data['MA20'] = data['close'].rolling(window=20).mean()\n",
    "# Calculate RSI\n",
    "def calculate_rsi(data, periods=4):\n",
    "    delta = data['close'].diff()\n",
    "    gain = (delta.where(delta > 0, 0)).rolling(window=periods).mean()\n",
    "    loss = (-delta.where(delta < 0, 0)).rolling(window=periods).mean()\n",
    "    rs = gain / loss\n",
    "    rsi = 100 - (100 / (1 + rs))\n",
    "    return rsi\n",
    "\n",
    "data['RSI-4'] = calculate_rsi(data)\n",
    "data['RSI-8'] = calculate_rsi(data, 8)"
   ]
  },
  {
   "cell_type": "code",
   "execution_count": 11,
   "metadata": {},
   "outputs": [],
   "source": [
    "data.dropna(inplace=True)"
   ]
  },
  {
   "cell_type": "code",
   "execution_count": 13,
   "metadata": {},
   "outputs": [
    {
     "data": {
      "text/plain": [
       "time           341271\n",
       "open           341271\n",
       "high           341271\n",
       "low            341271\n",
       "close          341271\n",
       "tick_volume    341271\n",
       "spread         341271\n",
       "MA5            341271\n",
       "MA8            341271\n",
       "MA13           341271\n",
       "MA20           341271\n",
       "RSI-4          341271\n",
       "RSI-8          341271\n",
       "dtype: int64"
      ]
     },
     "execution_count": 13,
     "metadata": {},
     "output_type": "execute_result"
    }
   ],
   "source": [
    "data.count()"
   ]
  }
 ],
 "metadata": {
  "kernelspec": {
   "display_name": "Python 3",
   "language": "python",
   "name": "python3"
  },
  "language_info": {
   "codemirror_mode": {
    "name": "ipython",
    "version": 3
   },
   "file_extension": ".py",
   "mimetype": "text/x-python",
   "name": "python",
   "nbconvert_exporter": "python",
   "pygments_lexer": "ipython3",
   "version": "3.12.4"
  }
 },
 "nbformat": 4,
 "nbformat_minor": 2
}
